{
  "cells": [
    {
      "cell_type": "markdown",
      "metadata": {
        "id": "view-in-github",
        "colab_type": "text"
      },
      "source": [
        "<a href=\"https://colab.research.google.com/github/sviss-home/netology_education/blob/main/pytjon_homework_sviss_4.ipynb\" target=\"_parent\"><img src=\"https://colab.research.google.com/assets/colab-badge.svg\" alt=\"Open In Colab\"/></a>"
      ]
    },
    {
      "cell_type": "code",
      "execution_count": null,
      "metadata": {
        "colab": {
          "base_uri": "https://localhost:8080/"
        },
        "id": "pnttGLgvFG_k",
        "outputId": "71bb3aed-c478-423a-ce08-e1d4d53a5edd"
      },
      "outputs": [
        {
          "output_type": "stream",
          "name": "stdout",
          "text": [
            "программа запущена\n",
            "Введите команду:ds\n",
            "Введите номер полки:2\n",
            "На полке есть документы, удалите их перед удалением полки. Текущий перечень полок: 1, 2, 3\n"
          ]
        }
      ],
      "source": [
        "documents = [\n",
        " {'type': 'passport', 'number': '2207 876234', 'name': 'Василий Гупкин'},\n",
        " {'type': 'invoice', 'number': '11-2', 'name': 'Геннадий Покемонов'},\n",
        " {'type': 'insurance', 'number': '10006', 'name': 'Аристарх Павлов'}\n",
        "]\n",
        "directories = {\n",
        " '1': ['2207 876234', '11-2'],\n",
        " '2': ['10006'],\n",
        " '3': []\n",
        "}\n",
        "def main():\n",
        "    print('программа запущена')\n",
        "    while True: \n",
        "      user_input = input('Введите команду:')\n",
        "      if user_input == 'p':\n",
        "          def name_by_doc_num(documents):\n",
        "              number_input = input(\"Введите номер документа:\")\n",
        "              for i in documents:\n",
        "                if i[\"number\"] == number_input:\n",
        "                  return i[\"name\"]\n",
        "              else: print('Документ не найден в базе')\n",
        "          print('Владелец документа:',name_by_doc_num(documents))\n",
        "      elif user_input == 's':\n",
        "          def shelf_by_doc_num(directories):\n",
        "            y = input('Введите номер документа:')\n",
        "            for i in directories.items():\n",
        "              if y in i[1]:\n",
        "                return i[0]\n",
        "              else: print('Документ не найден в базе')\n",
        "          print('Документ хранится на полке:',shelf_by_doc_num(directories))\n",
        "      elif user_input == 'l':\n",
        "          def key_func(directories, value):\n",
        "            for keys, values in directories.items():\n",
        "              if value in values:\n",
        "                return keys\n",
        "          def full_list():\n",
        "            for i in documents:\n",
        "              doc_type = i[\"type\"]; number = i[\"number\"]; name = i[\"name\"]\n",
        "              print('№: {1}, тип: {0}, владелец: {2} полка: {3}'.format(doc_type, number, name, key_func(directories,number)))\n",
        "          full_list()\n",
        "      elif user_input == 'ads':\n",
        "          def add_shelf():\n",
        "              shelf = input(\"Введите номер полки: \")\n",
        "              for i in list(directories.items()):\n",
        "                  if shelf in i[0]:\n",
        "                    print(f\"Такая полка уже существует. Текущий перечень полок: {list(directories.keys())}\")\n",
        "                  else:\n",
        "                    directories[shelf] = shelf\n",
        "                    print(f\"Полка добавлена. Текущий перечень полок: {list(directories.keys())}\")\n",
        "                    break\n",
        "          add_shelf()\n",
        "      elif user_input == 'ds':\n",
        "          def rem_shelf():\n",
        "              i = input('Введите номер полки:')\n",
        "              if i in directories:\n",
        "                  if len(directories[i]) > 0:\n",
        "                      print('На полке есть документы, удалите их перед удалением полки. Текущий перечень полок: ' + ', '.join(directories.keys()))\n",
        "                  elif len(directories[i]) == 0:   \n",
        "                      del directories[i]\n",
        "                      print('Полка удалена. Текущий перечень полок: ' + ', '.join(directories.keys()))\n",
        "              else:\n",
        "                  print ('Такой полки не существует. Текущий перечень полок:' + ', '.join(directories.keys()))\n",
        "          rem_shelf()          \n",
        "      elif user_input == 'q':\n",
        "        print('Выход из программы')\n",
        "        break\n",
        "    else: print('Неверная команда')\n",
        "main()"
      ]
    }
  ],
  "metadata": {
    "colab": {
      "collapsed_sections": [],
      "provenance": [],
      "authorship_tag": "ABX9TyN5d0xmUf7nYaGZpntqPh33",
      "include_colab_link": true
    },
    "kernelspec": {
      "display_name": "Python 3",
      "name": "python3"
    },
    "language_info": {
      "name": "python"
    }
  },
  "nbformat": 4,
  "nbformat_minor": 0
}